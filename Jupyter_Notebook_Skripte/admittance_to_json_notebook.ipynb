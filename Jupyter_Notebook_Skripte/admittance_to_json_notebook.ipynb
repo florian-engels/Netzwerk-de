{
 "cells": [
  {
   "cell_type": "code",
   "execution_count": 1,
   "metadata": {},
   "outputs": [],
   "source": [
    "import pypsa\n",
    "import pandas as pd\n",
    "import numpy as np\n",
    "import plotly.graph_objects as go\n",
    "import json"
   ]
  },
  {
   "cell_type": "code",
   "execution_count": 2,
   "metadata": {},
   "outputs": [],
   "source": [
    "def admittance_to_json(admittance_matrix):\n",
    "    # admittance to JSON\n",
    "    # first calculate imaginary and real parts of nodes\n",
    "    nodes_real = []\n",
    "    nodes_imag = []\n",
    "    nodes_names = []\n",
    "    for i in range(0,len(admittance_matrix)):\n",
    "        nodes_real = nodes_real + [admittance_matrix.iloc[i,i].real]\n",
    "        nodes_imag = nodes_imag + [admittance_matrix.iloc[i,i].imag]\n",
    "        nodes_names = nodes_names + [admittance_matrix.columns[i]]\n",
    "    \n",
    "    nodes = [0]*len(admittance_matrix)\n",
    "    for i in range(0,len(admittance_matrix)):\n",
    "        nodes[i] = {'B':nodes_imag[i].astype(str), 'G':nodes_real[i].astype(str), 'id':nodes_names[i]}\n",
    "\n",
    "    # calculate real and imaginary parts of transmissionlines\n",
    "    transmission_line_real = []\n",
    "    transmission_line_imag = []\n",
    "    transmission_line_from = []\n",
    "    transmission_line_to = []\n",
    "    transmission_line_id = []\n",
    "    for i in range(0, len(admittance_matrix)):\n",
    "        for j in range(0, len(admittance_matrix)):\n",
    "            if not i == j:\n",
    "                transmission_line_real = transmission_line_real + [np.float64(admittance_matrix.iloc[i,j].real)]\n",
    "                transmission_line_imag = transmission_line_imag + [np.float64(admittance_matrix.iloc[i,j].imag)]\n",
    "                transmission_line_from = transmission_line_from + [admittance_matrix.index[i]]\n",
    "                transmission_line_to = transmission_line_to + [admittance_matrix.columns[j]]\n",
    "                transmission_line_id = transmission_line_id + [admittance_matrix.index[i]+\"_\"+admittance_matrix.columns[j]]\n",
    "\n",
    "    transmission_lines = [0]*(pow(len(admittance_matrix),2)-len(admittance_matrix))\n",
    "    for i in range(0,pow(len(admittance_matrix),2)-len(admittance_matrix)):\n",
    "        transmission_lines[i] = {'B':transmission_line_imag[i].astype(str), \n",
    "                                 'G':transmission_line_real[i].astype(str), \n",
    "                                 'from':transmission_line_from[i],\n",
    "                                 'id':transmission_line_id[i],\n",
    "                                 'to':transmission_line_to[i]}\n",
    "    \n",
    "    # store results in JSON Format    \n",
    "    admittance_in_json = {'nodes': {'PVnode':nodes}, 'connections': {'Transmissionline':transmission_lines}}\n",
    "    admittance_in_json = json.dumps(admittance_in_json)\n",
    "    return admittance_in_json"
   ]
  },
  {
   "cell_type": "code",
   "execution_count": null,
   "metadata": {},
   "outputs": [],
   "source": []
  },
  {
   "cell_type": "code",
   "execution_count": null,
   "metadata": {},
   "outputs": [],
   "source": []
  },
  {
   "cell_type": "code",
   "execution_count": null,
   "metadata": {},
   "outputs": [],
   "source": []
  }
 ],
 "metadata": {
  "kernelspec": {
   "display_name": "Python 3",
   "language": "python",
   "name": "python3"
  },
  "language_info": {
   "codemirror_mode": {
    "name": "ipython",
    "version": 3
   },
   "file_extension": ".py",
   "mimetype": "text/x-python",
   "name": "python",
   "nbconvert_exporter": "python",
   "pygments_lexer": "ipython3",
   "version": "3.7.9"
  }
 },
 "nbformat": 4,
 "nbformat_minor": 4
}
