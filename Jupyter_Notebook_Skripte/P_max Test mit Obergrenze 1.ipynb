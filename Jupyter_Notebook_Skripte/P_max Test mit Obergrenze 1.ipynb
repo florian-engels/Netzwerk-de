{
 "cells": [
  {
   "cell_type": "code",
   "execution_count": 1,
   "metadata": {},
   "outputs": [],
   "source": [
    "import pypsa\n",
    "import pandas as pd\n",
    "import numpy as np"
   ]
  },
  {
   "cell_type": "code",
   "execution_count": 96,
   "metadata": {},
   "outputs": [
    {
     "name": "stderr",
     "output_type": "stream",
     "text": [
      "INFO:pypsa.io:Imported network elec_s_4.nc has buses, carriers, generators, lines, links, loads\n"
     ]
    }
   ],
   "source": [
    "n = pypsa.Network(\"elec_s_4.nc\")"
   ]
  },
  {
   "cell_type": "code",
   "execution_count": 97,
   "metadata": {},
   "outputs": [
    {
     "name": "stderr",
     "output_type": "stream",
     "text": [
      "ERROR:pypsa.io:Error, new components for Bus are not unique\n",
      "ERROR:pypsa.io:Error, new components for Carrier are not unique\n",
      "ERROR:pypsa.io:Error, new components for Generator are not unique\n",
      "ERROR:pypsa.io:Error, new components for Line are not unique\n",
      "ERROR:pypsa.io:Error, new components for Link are not unique\n",
      "ERROR:pypsa.io:Error, new components for Load are not unique\n",
      "INFO:pypsa.io:Imported network Export_Import has buses, carriers, generators, lines, links, loads\n"
     ]
    }
   ],
   "source": [
    "n.import_from_csv_folder(\"Export_Import\")"
   ]
  },
  {
   "cell_type": "code",
   "execution_count": 98,
   "metadata": {},
   "outputs": [],
   "source": [
    "n.generators_t.p_max_pu = n.generators_t.p_max_pu[n.generators_t.p_max_pu.columns.drop(list(n.generators_t.p_max_pu.filter(regex='offwind')))]"
   ]
  },
  {
   "cell_type": "code",
   "execution_count": null,
   "metadata": {},
   "outputs": [],
   "source": []
  },
  {
   "cell_type": "code",
   "execution_count": 99,
   "metadata": {},
   "outputs": [],
   "source": [
    "#Erhalte die Maxima der einzelnen Onwind und Solar Daten\n",
    "nodes=4 #Anzahl Knoten\n",
    "max_pu_onwind = np.zeros((1,nodes),dtype=float) #Initialisierung\n",
    "max_pu_solar = np.zeros((1,nodes),dtype=float) #Initialisierung\n",
    "\n",
    "for i in range(0,nodes):\n",
    "    max_pu_onwind[0,i] = max(n.generators_t.p_max_pu.iloc[:,2*i])\n",
    "    max_pu_solar[0,i] = max(n.generators_t.p_max_pu.iloc[:,2*i+1])\n",
    "\n"
   ]
  },
  {
   "cell_type": "code",
   "execution_count": 100,
   "metadata": {},
   "outputs": [],
   "source": [
    "#Dividiere jeden Wert durch das Maximum um im Intervall 0 und 1 zu landen\n",
    "for i in range(0,nodes):\n",
    "    n.generators_t.p_max_pu.iloc[:,i*2]=n.generators_t.p_max_pu.iloc[:,i*2] / max_pu_onwind[0,i]\n",
    "    n.generators_t.p_max_pu.iloc[:,i*2+1]=n.generators_t.p_max_pu.iloc[:,i*2+1] / max_pu_solar[0,i]\n",
    "\n",
    "\n"
   ]
  },
  {
   "cell_type": "code",
   "execution_count": 102,
   "metadata": {
    "scrolled": true
   },
   "outputs": [],
   "source": [
    "#Setze die vorherigen Maxima nun auf p_nom, (nicht mit Schleife lösbar, da Daten in Generators keine feste Form haben)\n",
    "n.generators.loc[\"DE0 0 onwind\",\"p_nom\"] = max_pu_onwind[0,0]\n",
    "n.generators.loc[\"DE0 1 onwind\",\"p_nom\"] = max_pu_onwind[0,1]\n",
    "n.generators.loc[\"DE0 2 onwind\",\"p_nom\"] = max_pu_onwind[0,2]\n",
    "n.generators.loc[\"DE0 3 onwind\",\"p_nom\"] = max_pu_onwind[0,3]\n",
    "n.generators.loc[\"DE0 0 solar\",\"p_nom\"] = max_pu_solar[0,0]\n",
    "n.generators.loc[\"DE0 1 solar\",\"p_nom\"] = max_pu_solar[0,1]\n",
    "n.generators.loc[\"DE0 2 solar\",\"p_nom\"] = max_pu_solar[0,2]\n",
    "n.generators.loc[\"DE0 3 solar\",\"p_nom\"] = max_pu_solar[0,3]\n"
   ]
  },
  {
   "cell_type": "code",
   "execution_count": 105,
   "metadata": {},
   "outputs": [
    {
     "data": {
      "text/html": [
       "<div>\n",
       "<style scoped>\n",
       "    .dataframe tbody tr th:only-of-type {\n",
       "        vertical-align: middle;\n",
       "    }\n",
       "\n",
       "    .dataframe tbody tr th {\n",
       "        vertical-align: top;\n",
       "    }\n",
       "\n",
       "    .dataframe thead th {\n",
       "        text-align: right;\n",
       "    }\n",
       "</style>\n",
       "<table border=\"1\" class=\"dataframe\">\n",
       "  <thead>\n",
       "    <tr style=\"text-align: right;\">\n",
       "      <th></th>\n",
       "      <th>DE0 0 onwind</th>\n",
       "      <th>DE0 0 solar</th>\n",
       "      <th>DE0 1 onwind</th>\n",
       "      <th>DE0 1 solar</th>\n",
       "      <th>DE0 2 onwind</th>\n",
       "      <th>DE0 2 solar</th>\n",
       "      <th>DE0 3 onwind</th>\n",
       "      <th>DE0 3 solar</th>\n",
       "    </tr>\n",
       "    <tr>\n",
       "      <th>name</th>\n",
       "      <th></th>\n",
       "      <th></th>\n",
       "      <th></th>\n",
       "      <th></th>\n",
       "      <th></th>\n",
       "      <th></th>\n",
       "      <th></th>\n",
       "      <th></th>\n",
       "    </tr>\n",
       "  </thead>\n",
       "  <tbody>\n",
       "    <tr>\n",
       "      <th>2013-03-01 00:00:00</th>\n",
       "      <td>0.254572</td>\n",
       "      <td>0.000000e+00</td>\n",
       "      <td>0.287096</td>\n",
       "      <td>0.000000</td>\n",
       "      <td>0.308656</td>\n",
       "      <td>0.000000</td>\n",
       "      <td>0.257029</td>\n",
       "      <td>0.000000</td>\n",
       "    </tr>\n",
       "    <tr>\n",
       "      <th>2013-03-01 01:00:00</th>\n",
       "      <td>0.425919</td>\n",
       "      <td>0.000000e+00</td>\n",
       "      <td>0.567066</td>\n",
       "      <td>0.000000</td>\n",
       "      <td>0.046751</td>\n",
       "      <td>0.000000</td>\n",
       "      <td>0.544387</td>\n",
       "      <td>0.000000</td>\n",
       "    </tr>\n",
       "    <tr>\n",
       "      <th>2013-03-01 02:00:00</th>\n",
       "      <td>0.194269</td>\n",
       "      <td>0.000000e+00</td>\n",
       "      <td>0.204090</td>\n",
       "      <td>0.000000</td>\n",
       "      <td>0.120501</td>\n",
       "      <td>0.000000</td>\n",
       "      <td>0.187371</td>\n",
       "      <td>0.000000</td>\n",
       "    </tr>\n",
       "    <tr>\n",
       "      <th>2013-03-01 03:00:00</th>\n",
       "      <td>0.145479</td>\n",
       "      <td>0.000000e+00</td>\n",
       "      <td>0.136904</td>\n",
       "      <td>0.000000</td>\n",
       "      <td>0.419571</td>\n",
       "      <td>0.000000</td>\n",
       "      <td>0.442812</td>\n",
       "      <td>0.000000</td>\n",
       "    </tr>\n",
       "    <tr>\n",
       "      <th>2013-03-01 04:00:00</th>\n",
       "      <td>0.306973</td>\n",
       "      <td>8.679399e-05</td>\n",
       "      <td>0.167487</td>\n",
       "      <td>0.000000</td>\n",
       "      <td>0.136138</td>\n",
       "      <td>0.000000</td>\n",
       "      <td>0.064227</td>\n",
       "      <td>0.000000</td>\n",
       "    </tr>\n",
       "    <tr>\n",
       "      <th>...</th>\n",
       "      <td>...</td>\n",
       "      <td>...</td>\n",
       "      <td>...</td>\n",
       "      <td>...</td>\n",
       "      <td>...</td>\n",
       "      <td>...</td>\n",
       "      <td>...</td>\n",
       "      <td>...</td>\n",
       "    </tr>\n",
       "    <tr>\n",
       "      <th>2013-03-31 19:00:00</th>\n",
       "      <td>0.180544</td>\n",
       "      <td>2.532314e-02</td>\n",
       "      <td>0.020278</td>\n",
       "      <td>0.076659</td>\n",
       "      <td>0.524127</td>\n",
       "      <td>0.071968</td>\n",
       "      <td>0.615360</td>\n",
       "      <td>0.042749</td>\n",
       "    </tr>\n",
       "    <tr>\n",
       "      <th>2013-03-31 20:00:00</th>\n",
       "      <td>0.520566</td>\n",
       "      <td>4.647954e-03</td>\n",
       "      <td>0.211032</td>\n",
       "      <td>0.016399</td>\n",
       "      <td>0.174053</td>\n",
       "      <td>0.011950</td>\n",
       "      <td>0.204886</td>\n",
       "      <td>0.006737</td>\n",
       "    </tr>\n",
       "    <tr>\n",
       "      <th>2013-03-31 21:00:00</th>\n",
       "      <td>0.071411</td>\n",
       "      <td>6.088879e-07</td>\n",
       "      <td>0.300789</td>\n",
       "      <td>0.000032</td>\n",
       "      <td>0.105679</td>\n",
       "      <td>0.000079</td>\n",
       "      <td>0.292140</td>\n",
       "      <td>0.000000</td>\n",
       "    </tr>\n",
       "    <tr>\n",
       "      <th>2013-03-31 22:00:00</th>\n",
       "      <td>0.156260</td>\n",
       "      <td>0.000000e+00</td>\n",
       "      <td>0.283547</td>\n",
       "      <td>0.000000</td>\n",
       "      <td>0.722488</td>\n",
       "      <td>0.000000</td>\n",
       "      <td>0.331068</td>\n",
       "      <td>0.000000</td>\n",
       "    </tr>\n",
       "    <tr>\n",
       "      <th>2013-03-31 23:00:00</th>\n",
       "      <td>0.271100</td>\n",
       "      <td>0.000000e+00</td>\n",
       "      <td>0.097832</td>\n",
       "      <td>0.000000</td>\n",
       "      <td>0.470880</td>\n",
       "      <td>0.000000</td>\n",
       "      <td>0.096682</td>\n",
       "      <td>0.000000</td>\n",
       "    </tr>\n",
       "  </tbody>\n",
       "</table>\n",
       "<p>744 rows × 8 columns</p>\n",
       "</div>"
      ],
      "text/plain": [
       "                     DE0 0 onwind   DE0 0 solar  DE0 1 onwind  DE0 1 solar  \\\n",
       "name                                                                         \n",
       "2013-03-01 00:00:00      0.254572  0.000000e+00      0.287096     0.000000   \n",
       "2013-03-01 01:00:00      0.425919  0.000000e+00      0.567066     0.000000   \n",
       "2013-03-01 02:00:00      0.194269  0.000000e+00      0.204090     0.000000   \n",
       "2013-03-01 03:00:00      0.145479  0.000000e+00      0.136904     0.000000   \n",
       "2013-03-01 04:00:00      0.306973  8.679399e-05      0.167487     0.000000   \n",
       "...                           ...           ...           ...          ...   \n",
       "2013-03-31 19:00:00      0.180544  2.532314e-02      0.020278     0.076659   \n",
       "2013-03-31 20:00:00      0.520566  4.647954e-03      0.211032     0.016399   \n",
       "2013-03-31 21:00:00      0.071411  6.088879e-07      0.300789     0.000032   \n",
       "2013-03-31 22:00:00      0.156260  0.000000e+00      0.283547     0.000000   \n",
       "2013-03-31 23:00:00      0.271100  0.000000e+00      0.097832     0.000000   \n",
       "\n",
       "                     DE0 2 onwind  DE0 2 solar  DE0 3 onwind  DE0 3 solar  \n",
       "name                                                                       \n",
       "2013-03-01 00:00:00      0.308656     0.000000      0.257029     0.000000  \n",
       "2013-03-01 01:00:00      0.046751     0.000000      0.544387     0.000000  \n",
       "2013-03-01 02:00:00      0.120501     0.000000      0.187371     0.000000  \n",
       "2013-03-01 03:00:00      0.419571     0.000000      0.442812     0.000000  \n",
       "2013-03-01 04:00:00      0.136138     0.000000      0.064227     0.000000  \n",
       "...                           ...          ...           ...          ...  \n",
       "2013-03-31 19:00:00      0.524127     0.071968      0.615360     0.042749  \n",
       "2013-03-31 20:00:00      0.174053     0.011950      0.204886     0.006737  \n",
       "2013-03-31 21:00:00      0.105679     0.000079      0.292140     0.000000  \n",
       "2013-03-31 22:00:00      0.722488     0.000000      0.331068     0.000000  \n",
       "2013-03-31 23:00:00      0.470880     0.000000      0.096682     0.000000  \n",
       "\n",
       "[744 rows x 8 columns]"
      ]
     },
     "execution_count": 105,
     "metadata": {},
     "output_type": "execute_result"
    }
   ],
   "source": [
    "n.generators_t.p_max_pu"
   ]
  },
  {
   "cell_type": "code",
   "execution_count": null,
   "metadata": {},
   "outputs": [],
   "source": []
  },
  {
   "cell_type": "code",
   "execution_count": 83,
   "metadata": {},
   "outputs": [],
   "source": [
    "\n",
    "\n"
   ]
  },
  {
   "cell_type": "code",
   "execution_count": 88,
   "metadata": {},
   "outputs": [],
   "source": [
    "\n"
   ]
  },
  {
   "cell_type": "code",
   "execution_count": null,
   "metadata": {},
   "outputs": [],
   "source": []
  },
  {
   "cell_type": "code",
   "execution_count": null,
   "metadata": {},
   "outputs": [],
   "source": []
  },
  {
   "cell_type": "code",
   "execution_count": null,
   "metadata": {},
   "outputs": [],
   "source": []
  }
 ],
 "metadata": {
  "kernelspec": {
   "display_name": "Python 3",
   "language": "python",
   "name": "python3"
  },
  "language_info": {
   "codemirror_mode": {
    "name": "ipython",
    "version": 3
   },
   "file_extension": ".py",
   "mimetype": "text/x-python",
   "name": "python",
   "nbconvert_exporter": "python",
   "pygments_lexer": "ipython3",
   "version": "3.7.9"
  }
 },
 "nbformat": 4,
 "nbformat_minor": 4
}
