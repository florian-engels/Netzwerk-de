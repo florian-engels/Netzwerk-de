{
 "cells": [
  {
   "cell_type": "code",
   "execution_count": 140,
   "metadata": {},
   "outputs": [],
   "source": [
    "import pandas as pd\n",
    "import numpy as np"
   ]
  },
  {
   "cell_type": "markdown",
   "metadata": {},
   "source": [
    "# Für Testdatensätze. Für die Realen siehe weiter unten"
   ]
  },
  {
   "cell_type": "code",
   "execution_count": null,
   "metadata": {},
   "outputs": [],
   "source": [
    "Bus0Data = pd.read_csv('Hertz_simulated_data.csv', sep=\";\",decimal=\",\")"
   ]
  },
  {
   "cell_type": "code",
   "execution_count": 4,
   "metadata": {},
   "outputs": [],
   "source": [
    "Bus3Data = pd.read_csv('Transnet_simulated_data.csv', sep=\";\",decimal=\",\")"
   ]
  },
  {
   "cell_type": "code",
   "execution_count": 5,
   "metadata": {},
   "outputs": [],
   "source": [
    "Bus2Data = pd.read_csv('Tennet_simulated_data.csv', sep=\";\",decimal=\",\")"
   ]
  },
  {
   "cell_type": "code",
   "execution_count": 6,
   "metadata": {},
   "outputs": [],
   "source": [
    "Bus1Data = pd.read_csv('Amprion_simulated_data.csv', sep=\";\",decimal=\",\")"
   ]
  },
  {
   "cell_type": "code",
   "execution_count": 7,
   "metadata": {
    "scrolled": true
   },
   "outputs": [
    {
     "name": "stdout",
     "output_type": "stream",
     "text": [
      "                     Date        Wind       Solar          Load\n",
      "0     2020-07-24 13:00:00  388.173198    0.000000   4022.106866\n",
      "1     2020-07-24 14:00:00  822.150272    0.000000   3864.235887\n",
      "2     2020-07-24 15:00:00  282.973375    0.000000   3802.813941\n",
      "3     2020-07-24 16:00:00  668.748864    0.000000   4431.695759\n",
      "4     2020-07-24 17:00:00   96.996949    0.000000   5512.100490\n",
      "...                   ...         ...         ...           ...\n",
      "8755  2021-07-24 08:00:00  464.696675  274.908520  12984.133841\n",
      "8756  2021-07-24 09:00:00  757.367628   93.015960  10390.880067\n",
      "8757  2021-07-24 10:00:00  401.555987    5.603936   8721.926856\n",
      "8758  2021-07-24 11:00:00  439.797852    0.000000   6152.241622\n",
      "8759  2021-07-24 12:00:00  777.595425    0.000000   5050.369055\n",
      "\n",
      "[8760 rows x 4 columns]\n"
     ]
    }
   ],
   "source": [
    "print(Bus3Data)"
   ]
  },
  {
   "cell_type": "code",
   "execution_count": 8,
   "metadata": {},
   "outputs": [],
   "source": [
    "LoadData = pd.DataFrame({'Date':Bus0Data['Date'],\n",
    "            'DE0 0':Bus0Data['Load'],\n",
    "           'DE0 1':Bus1Data['Load'],\n",
    "           'DE0 2':Bus2Data['Load'],\n",
    "           'DE0 3':Bus3Data['Load']})"
   ]
  },
  {
   "cell_type": "code",
   "execution_count": 9,
   "metadata": {},
   "outputs": [],
   "source": [
    "Solar = pd.DataFrame({'Date':Bus0Data['Date'],\n",
    "            'DE0 0':Bus0Data['Solar'],\n",
    "           'DE0 1':Bus1Data['Solar'],\n",
    "           'DE0 2':Bus2Data['Solar'],\n",
    "           'DE0 3':Bus3Data['Solar']})"
   ]
  },
  {
   "cell_type": "code",
   "execution_count": 10,
   "metadata": {},
   "outputs": [],
   "source": [
    "Wind = pd.DataFrame({'Date':Bus0Data['Date'],\n",
    "            'DE0 0':Bus0Data['Wind'],\n",
    "           'DE0 1':Bus1Data['Wind'],\n",
    "           'DE0 2':Bus2Data['Wind'],\n",
    "           'DE0 3':Bus3Data['Wind']})"
   ]
  },
  {
   "cell_type": "code",
   "execution_count": 11,
   "metadata": {},
   "outputs": [
    {
     "name": "stdout",
     "output_type": "stream",
     "text": [
      "                     Date         DE0 0        DE0 1         DE0 2       DE0 3\n",
      "0     2020-07-24 13:00:00   4420.747470  2550.968093   7706.149970  388.173198\n",
      "1     2020-07-24 14:00:00   7396.268535  5038.621924   1167.215977  822.150272\n",
      "2     2020-07-24 15:00:00   3373.570171  1813.423809   3008.532068  282.973375\n",
      "3     2020-07-24 16:00:00   2526.309714  1216.454053  10475.330164  668.748864\n",
      "4     2020-07-24 17:00:00   5330.726229  1488.197534   3398.924341   96.996949\n",
      "...                   ...           ...          ...           ...         ...\n",
      "8755  2021-07-24 08:00:00   2861.260449   444.268675  14817.427921  464.696675\n",
      "8756  2021-07-24 09:00:00  10721.298367  1823.381150   8199.304406  757.367628\n",
      "8757  2021-07-24 10:00:00   1934.154569  1294.886870  10878.124946  401.555987\n",
      "8758  2021-07-24 11:00:00   3035.580943  2614.901757  12454.030279  439.797852\n",
      "8759  2021-07-24 12:00:00    772.197285   605.625804   4676.981558  777.595425\n",
      "\n",
      "[8760 rows x 5 columns]\n"
     ]
    }
   ],
   "source": [
    "print(Wind)"
   ]
  },
  {
   "cell_type": "code",
   "execution_count": 15,
   "metadata": {},
   "outputs": [],
   "source": [
    "LoadData.to_csv(r'/home/florian/Dokumente/pypsa-eur/networks/LoadDataTest.csv', index = False)"
   ]
  },
  {
   "cell_type": "code",
   "execution_count": 16,
   "metadata": {},
   "outputs": [],
   "source": [
    "Solar.to_csv(r'/home/florian/Dokumente/pypsa-eur/networks/SolarTest.csv', index = False)"
   ]
  },
  {
   "cell_type": "code",
   "execution_count": 17,
   "metadata": {},
   "outputs": [],
   "source": [
    "Wind.to_csv(r'/home/florian/Dokumente/pypsa-eur/networks/WindTest.csv', index = False)"
   ]
  },
  {
   "cell_type": "code",
   "execution_count": null,
   "metadata": {},
   "outputs": [],
   "source": []
  },
  {
   "cell_type": "markdown",
   "metadata": {},
   "source": [
    "# Für die realen Datensätze"
   ]
  },
  {
   "cell_type": "markdown",
   "metadata": {},
   "source": [
    "### Wind und Solar"
   ]
  },
  {
   "cell_type": "code",
   "execution_count": 141,
   "metadata": {},
   "outputs": [
    {
     "name": "stderr",
     "output_type": "stream",
     "text": [
      "/home/florian/anaconda3/envs/pypsa-eur/lib/python3.7/site-packages/IPython/core/interactiveshell.py:3146: DtypeWarning: Columns (15) have mixed types.Specify dtype option on import or set low_memory=False.\n",
      "  interactivity=interactivity, compiler=compiler, result=result)\n"
     ]
    }
   ],
   "source": [
    "#Einlesen der Datensätze\n",
    "solar_all = pd.read_csv('solar_actual.csv', sep=\",\",decimal=\".\")\n",
    "wind_all = pd.read_csv('wind_actual.csv', sep=\",\",decimal=\".\")"
   ]
  },
  {
   "cell_type": "code",
   "execution_count": 142,
   "metadata": {},
   "outputs": [],
   "source": [
    "#Auslesen der Übernetzbetreiber\n",
    "raw_solar_transnetBW = solar_all[solar_all[\"ConnectingArea\"]==\"10YDE-ENBW-----N\"]\n",
    "raw_solar_tennet = solar_all[solar_all[\"ConnectingArea\"]==\"10YDE-EON------1\"]\n",
    "raw_solar_amprion = solar_all[solar_all[\"ConnectingArea\"]==\"10YDE-RWENET---I\"]\n",
    "raw_solar_50hertz = solar_all[solar_all[\"ConnectingArea\"]==\"10YDE-VE-------2\"]\n",
    "\n",
    "raw_wind_transnetBW = wind_all[wind_all[\"ConnectingArea\"]==\"10YDE-ENBW-----N\"]\n",
    "raw_wind_tennet = wind_all[wind_all[\"ConnectingArea\"]==\"10YDE-EON------1\"]\n",
    "raw_wind_amprion = wind_all[wind_all[\"ConnectingArea\"]==\"10YDE-RWENET---I\"]\n",
    "raw_wind_50hertz = wind_all[wind_all[\"ConnectingArea\"]==\"10YDE-VE-------2\"]"
   ]
  },
  {
   "cell_type": "code",
   "execution_count": 143,
   "metadata": {},
   "outputs": [],
   "source": [
    "#Auslesen des richtigen Bereichs (März 2013, noch viertelstündlich)\n",
    "ind = raw_solar_transnetBW[raw_solar_transnetBW[\"TimeStamp\"].isin(list((\"2013-03-01 00:00:00\",\"2013-03-31 23:45:00\")))].index\n",
    "solar_transnetBW = raw_solar_transnetBW.loc[ind[0]:ind[1],]\n",
    "\n",
    "ind = raw_solar_tennet[raw_solar_tennet[\"TimeStamp\"].isin(list((\"2013-03-01 00:00:00\",\"2013-03-31 23:45:00\")))].index\n",
    "solar_tennet = raw_solar_tennet.loc[ind[0]:ind[1],]\n",
    "\n",
    "ind = raw_solar_amprion[raw_solar_amprion[\"TimeStamp\"].isin(list((\"2013-03-01 00:00:00\",\"2013-03-31 23:45:00\")))].index\n",
    "solar_amprion = raw_solar_amprion.loc[ind[0]:ind[1],]\n",
    "\n",
    "ind = raw_solar_50hertz[raw_solar_50hertz[\"TimeStamp\"].isin(list((\"2013-03-01 00:00:00\",\"2013-03-31 23:45:00\")))].index\n",
    "solar_50hertz = raw_solar_50hertz.loc[ind[0]:ind[1],]\n",
    "\n",
    "#Wind\n",
    "ind = raw_wind_transnetBW[raw_wind_transnetBW[\"TimeStamp\"].isin(list((\"2013-03-01 00:00:00\",\"2013-03-31 23:45:00\")))].index\n",
    "wind_transnetBW = raw_wind_transnetBW.loc[ind[0]:ind[1],]\n",
    "\n",
    "ind = raw_wind_tennet[raw_wind_tennet[\"TimeStamp\"].isin(list((\"2013-03-01 00:00:00\",\"2013-03-31 23:45:00\")))].index\n",
    "wind_tennet = raw_wind_tennet.loc[ind[0]:ind[1],]\n",
    "\n",
    "ind = raw_wind_amprion[raw_wind_amprion[\"TimeStamp\"].isin(list((\"2013-03-01 00:00:00\",\"2013-03-31 23:45:00\")))].index\n",
    "wind_amprion = raw_wind_amprion.loc[ind[0]:ind[1],]\n",
    "\n",
    "ind = raw_wind_50hertz[raw_wind_50hertz[\"TimeStamp\"].isin(list((\"2013-03-01 00:00:00\",\"2013-03-31 23:45:00\")))].index\n",
    "wind_50hertz = raw_wind_50hertz.loc[ind[0]:ind[1],]"
   ]
  },
  {
   "cell_type": "code",
   "execution_count": 144,
   "metadata": {},
   "outputs": [],
   "source": [
    "#Länge aller ist jetzt identisch (Monat März Viertelstündlich aggregiert)\n",
    "n = len(solar_amprion)\n",
    "\n",
    "#Indizes anpassen\n",
    "solar_50hertz.index=range(0,n)\n",
    "solar_amprion.index=range(0,n)\n",
    "solar_tennet.index=range(0,n)\n",
    "solar_transnetBW.index=range(0,n)\n",
    "\n",
    "wind_50hertz.index=range(0,n)\n",
    "wind_amprion.index=range(0,n)\n",
    "wind_tennet.index=range(0,n)\n",
    "wind_transnetBW.index=range(0,n)"
   ]
  },
  {
   "cell_type": "code",
   "execution_count": 145,
   "metadata": {},
   "outputs": [],
   "source": [
    "#neuer Vektor wird gefüttert mit MWh - Solar\n",
    "sDE00=np.zeros(744)\n",
    "sDE01=np.zeros(744)\n",
    "sDE02=np.zeros(744)\n",
    "sDE03=np.zeros(744)\n",
    "\n",
    "for i in range(0,n):\n",
    "    #Durch 4 teilen und abrunden um erst nach jedem 4. i einen weiter zu gehen in neuem Vektor\n",
    "    sDE00[round(i/4-0.49)] = sDE00[round(i/4-0.49)] + solar_50hertz.loc[i,\"ActualSolarEnergy\"]\n",
    "    sDE01[round(i/4-0.49)] = sDE01[round(i/4-0.49)] + solar_amprion.loc[i,\"ActualSolarEnergy\"]\n",
    "    sDE02[round(i/4-0.49)] = sDE02[round(i/4-0.49)] + solar_tennet.loc[i,\"ActualSolarEnergy\"]\n",
    "    sDE03[round(i/4-0.49)] = sDE03[round(i/4-0.49)] + solar_transnetBW.loc[i,\"ActualSolarEnergy\"]\n",
    "    \n",
    "    \n",
    "#neuer Vektor wird gefüttert mit MWh - Solar\n",
    "wDE00=np.zeros(744)\n",
    "wDE01=np.zeros(744)\n",
    "wDE02=np.zeros(744)\n",
    "wDE03=np.zeros(744)\n",
    "\n",
    "for i in range(0,n):\n",
    "    #Durch 4 teilen und abrunden um erst nach jedem 4. i einen weiter zu gehen in neuem Vektor\n",
    "    wDE00[round(i/4-0.49)] = wDE00[round(i/4-0.49)] + wind_50hertz.loc[i,\"ActualWindEnergy\"]\n",
    "    wDE01[round(i/4-0.49)] = wDE01[round(i/4-0.49)] + wind_amprion.loc[i,\"ActualWindEnergy\"]\n",
    "    wDE02[round(i/4-0.49)] = wDE02[round(i/4-0.49)] + wind_tennet.loc[i,\"ActualWindEnergy\"]\n",
    "    wDE03[round(i/4-0.49)] = wDE03[round(i/4-0.49)] + wind_transnetBW.loc[i,\"ActualWindEnergy\"]\n"
   ]
  },
  {
   "cell_type": "code",
   "execution_count": 146,
   "metadata": {},
   "outputs": [],
   "source": [
    "#Erstellen der benötigten DataFrames, nun bereit für den Export\n",
    "timestamp = pd.read_csv('Export_Import/loads-p_set.csv', sep=\",\",decimal=\".\")\n",
    "\n",
    "Solar = pd.DataFrame({'Date':list(timestamp[\"name\"]),\n",
    "                     'DE0 0':list(sDE00),\n",
    "                       'DE0 1':list(sDE01),\n",
    "                        'DE0 2':list(sDE02),\n",
    "                         'DE0 3':list(sDE03)})\n",
    "\n",
    "Wind = pd.DataFrame({'Date':list(timestamp[\"name\"]),\n",
    "                     'DE0 0':list(wDE00),\n",
    "                       'DE0 1':list(wDE01),\n",
    "                        'DE0 2':list(wDE02),\n",
    "                         'DE0 3':list(wDE03)})\n",
    "\n"
   ]
  },
  {
   "cell_type": "markdown",
   "metadata": {},
   "source": [
    "### Load"
   ]
  },
  {
   "cell_type": "code",
   "execution_count": 147,
   "metadata": {},
   "outputs": [],
   "source": [
    "#Einlesen der Datensätze\n",
    "load_50hertz_raw = pd.read_csv('Total Load - Day Ahead _ Actual_201501010000-201601010000_UTC_50Hertz.csv', sep=\",\",decimal=\".\")\n",
    "load_amprion_raw = pd.read_csv('Total Load - Day Ahead _ Actual_201501010000-201601010000_UTC_Amprion.csv', sep=\",\",decimal=\".\")\n",
    "load_tennet_raw = pd.read_csv('Total Load - Day Ahead _ Actual_201501010000-201601010000_UTC_Tennet.csv', sep=\",\",decimal=\".\")\n",
    "load_transnetBW_raw = pd.read_csv('Total Load - Day Ahead _ Actual_201501010000-201601010000_UTC_TransnetBW.csv', sep=\",\",decimal=\".\")"
   ]
  },
  {
   "cell_type": "code",
   "execution_count": 148,
   "metadata": {},
   "outputs": [],
   "source": [
    "#Auslesen des richtigen Zeitraums\n",
    "#richtiger Zeitraum ist hier der März 2015 (2013 nicht in den Daten vorhanden)\n",
    "load_50hertz = load_50hertz_raw[5664:8640]\n",
    "load_amprion = load_amprion_raw[5664:8640]\n",
    "load_tennet = load_tennet_raw[5664:8640]\n",
    "load_transnetBW = load_transnetBW_raw[5664:8640]"
   ]
  },
  {
   "cell_type": "code",
   "execution_count": 149,
   "metadata": {},
   "outputs": [],
   "source": [
    "n = len(load_amprion)\n",
    "\n",
    "#Indizes anpassen\n",
    "load_50hertz.index=range(0,n)\n",
    "load_amprion.index=range(0,n)\n",
    "load_tennet.index=range(0,n)\n",
    "load_transnetBW.index=range(0,n)"
   ]
  },
  {
   "cell_type": "code",
   "execution_count": null,
   "metadata": {},
   "outputs": [],
   "source": []
  },
  {
   "cell_type": "code",
   "execution_count": 150,
   "metadata": {},
   "outputs": [],
   "source": [
    "#neuer Vektor wird gefüttert mit MWh\n",
    "DE00=np.zeros(744)\n",
    "DE01=np.zeros(744)\n",
    "DE02=np.zeros(744)\n",
    "DE03=np.zeros(744)\n",
    "\n",
    "for i in range(0,n):\n",
    "    #i durch 4 teilen und abrunden um erst nach jedem 4. i einen weiter zu gehen in neuem Vektor.\n",
    "    #Wir bilden die Mittelwerte indem wir die Werte ganz hinten durch 4 teilen\n",
    "    DE00[round(i/4-0.49)] = DE00[round(i/4-0.49)] + load_50hertz.loc[i,\"Actual Total Load [MW] - CTA|DE(50Hertz)\"]/4\n",
    "    DE01[round(i/4-0.49)] = DE01[round(i/4-0.49)] + load_amprion.loc[i,\"Actual Total Load [MW] - CTA|DE(Amprion)\"]/4\n",
    "    DE02[round(i/4-0.49)] = DE02[round(i/4-0.49)] + load_tennet.loc[i,\"Actual Total Load [MW] - CTA|DE(TenneT GER)\"]/4\n",
    "    DE03[round(i/4-0.49)] = DE03[round(i/4-0.49)] + load_transnetBW.loc[i,\"Actual Total Load [MW] - CTA|DE(TransnetBW)\"]/4\n"
   ]
  },
  {
   "cell_type": "code",
   "execution_count": 151,
   "metadata": {},
   "outputs": [],
   "source": [
    "Load = pd.DataFrame({'Date':list(timestamp[\"name\"]),\n",
    "                     'DE0 0':list(DE00),\n",
    "                       'DE0 1':list(DE01),\n",
    "                        'DE0 2':list(DE02),\n",
    "                         'DE0 3':list(DE03)})"
   ]
  },
  {
   "cell_type": "code",
   "execution_count": null,
   "metadata": {},
   "outputs": [],
   "source": []
  },
  {
   "cell_type": "code",
   "execution_count": null,
   "metadata": {},
   "outputs": [],
   "source": [
    "#Load von 50Hertz scheint Anfang März nicht ordentlich gemessen worden zu sein"
   ]
  },
  {
   "cell_type": "code",
   "execution_count": 152,
   "metadata": {},
   "outputs": [],
   "source": [
    "Load.to_csv(r'/home/florian/Dokumente/pypsa-eur/networks/LoadDataTest.csv', index = False)\n",
    "Solar.to_csv(r'/home/florian/Dokumente/pypsa-eur/networks/SolarTest.csv', index = False)\n",
    "Wind.to_csv(r'/home/florian/Dokumente/pypsa-eur/networks/WindTest.csv', index = False)"
   ]
  },
  {
   "cell_type": "code",
   "execution_count": null,
   "metadata": {},
   "outputs": [],
   "source": []
  },
  {
   "cell_type": "code",
   "execution_count": null,
   "metadata": {},
   "outputs": [],
   "source": []
  },
  {
   "cell_type": "code",
   "execution_count": null,
   "metadata": {},
   "outputs": [],
   "source": []
  },
  {
   "cell_type": "code",
   "execution_count": null,
   "metadata": {},
   "outputs": [],
   "source": []
  },
  {
   "cell_type": "code",
   "execution_count": null,
   "metadata": {},
   "outputs": [],
   "source": []
  },
  {
   "cell_type": "markdown",
   "metadata": {},
   "source": [
    "# Codeschnipsel"
   ]
  },
  {
   "cell_type": "code",
   "execution_count": null,
   "metadata": {},
   "outputs": [],
   "source": []
  },
  {
   "cell_type": "code",
   "execution_count": null,
   "metadata": {},
   "outputs": [],
   "source": [
    "#Einlesen des benötigten Timestamps, dann aussortieren der nicht benötigten Daten.\n",
    "#Gleichzeitig behalten wir nur noch den TimeStamp und die \"ActualEnergy\"\n",
    "timestamp = pd.read_csv('Export_Import/loads-p_set.csv', sep=\",\",decimal=\".\")\n",
    "\n",
    "solar_transnetBW = solar_transnetBW[solar_transnetBW[\"TimeStamp\"].isin(timestamp[\"name\"])][[\"TimeStamp\",\"ActualSolarEnergy\"]]\n",
    "solar_tennet = solar_tennet[solar_tennet[\"TimeStamp\"].isin(timestamp[\"name\"])][[\"TimeStamp\",\"ActualSolarEnergy\"]]\n",
    "solar_amprion = solar_amprion[solar_amprion[\"TimeStamp\"].isin(timestamp[\"name\"])][[\"TimeStamp\",\"ActualSolarEnergy\"]]\n",
    "solar_50hertz = solar_50hertz[solar_50hertz[\"TimeStamp\"].isin(timestamp[\"name\"])][[\"TimeStamp\",\"ActualSolarEnergy\"]]\n",
    "\n",
    "wind_transnetBW = wind_transnetBW[wind_transnetBW[\"TimeStamp\"].isin(timestamp[\"name\"])][[\"TimeStamp\",\"ActualWindEnergy\"]]\n",
    "wind_tennet = wind_tennet[wind_tennet[\"TimeStamp\"].isin(timestamp[\"name\"])][[\"TimeStamp\",\"ActualWindEnergy\"]]\n",
    "wind_amprion = wind_amprion[wind_amprion[\"TimeStamp\"].isin(timestamp[\"name\"])][[\"TimeStamp\",\"ActualWindEnergy\"]]\n",
    "wind_50hertz = wind_50hertz[wind_50hertz[\"TimeStamp\"].isin(timestamp[\"name\"])][[\"TimeStamp\",\"ActualWindEnergy\"]]"
   ]
  }
 ],
 "metadata": {
  "kernelspec": {
   "display_name": "Python 3",
   "language": "python",
   "name": "python3"
  },
  "language_info": {
   "codemirror_mode": {
    "name": "ipython",
    "version": 3
   },
   "file_extension": ".py",
   "mimetype": "text/x-python",
   "name": "python",
   "nbconvert_exporter": "python",
   "pygments_lexer": "ipython3",
   "version": "3.7.9"
  }
 },
 "nbformat": 4,
 "nbformat_minor": 4
}
