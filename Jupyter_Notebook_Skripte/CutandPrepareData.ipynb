{
 "cells": [
  {
   "cell_type": "code",
   "execution_count": 10,
   "metadata": {
    "scrolled": true
   },
   "outputs": [],
   "source": [
    "import pandas as pd\n",
    "import pypsa\n",
    "import os"
   ]
  },
  {
   "cell_type": "code",
   "execution_count": 27,
   "metadata": {},
   "outputs": [],
   "source": [
    "LoadData = pd.read_csv('LoadDataTest.csv', sep=\",\",decimal=\".\")"
   ]
  },
  {
   "cell_type": "code",
   "execution_count": 28,
   "metadata": {},
   "outputs": [],
   "source": [
    "SolarData = pd.read_csv('SolarTest.csv', sep=\",\",decimal=\".\")"
   ]
  },
  {
   "cell_type": "code",
   "execution_count": 29,
   "metadata": {},
   "outputs": [],
   "source": [
    "WindData = pd.read_csv('WindTest.csv', sep=\",\",decimal=\".\")"
   ]
  },
  {
   "cell_type": "code",
   "execution_count": 30,
   "metadata": {
    "scrolled": true
   },
   "outputs": [
    {
     "name": "stderr",
     "output_type": "stream",
     "text": [
      "INFO:pypsa.io:Imported network elec_s_4.nc has buses, carriers, generators, lines, links, loads\n"
     ]
    }
   ],
   "source": [
    "n = pypsa.Network(\"elec_s_4.nc\")"
   ]
  },
  {
   "cell_type": "code",
   "execution_count": 31,
   "metadata": {},
   "outputs": [
    {
     "name": "stderr",
     "output_type": "stream",
     "text": [
      "WARNING:pypsa.io:Directory Export_Import does not exist, creating it\n",
      "INFO:pypsa.io:Exported network Export_Import has carriers, lines, loads, buses, links, generators\n"
     ]
    }
   ],
   "source": [
    "n.export_to_csv_folder('Export_Import')"
   ]
  },
  {
   "cell_type": "code",
   "execution_count": 32,
   "metadata": {},
   "outputs": [],
   "source": [
    "generators = pd.read_csv('Export_Import/generators-p_max_pu.csv', sep=\",\",decimal=\".\")\n",
    "\n",
    "#Offwind Spalten rausschmeißen (EDIT: funktioniert beim Einlesen so nicht, hab es jetzt anders gelöst, könnte also rausgeworfen werden\n",
    "#so jedoch zum Auswerten später leichter\n",
    "generators = generators[generators.columns.drop(list(generators.filter(regex='offwind')))]\n",
    "\n",
    "#Generator Daten mit Input Daten überschreiben\n",
    "generators[\"DE0 0 onwind\"] = WindData[\"DE0 0\"]\n",
    "generators[\"DE0 0 solar\"] = SolarData[\"DE0 0\"]\n",
    "\n",
    "generators[\"DE0 1 onwind\"] = WindData[\"DE0 1\"]\n",
    "generators[\"DE0 1 solar\"] = SolarData[\"DE0 1\"]\n",
    "\n",
    "generators[\"DE0 2 onwind\"] = WindData[\"DE0 2\"]\n",
    "generators[\"DE0 2 solar\"] = SolarData[\"DE0 2\"]\n",
    "\n",
    "generators[\"DE0 3 onwind\"] = WindData[\"DE0 3\"]\n",
    "generators[\"DE0 3 solar\"] = SolarData[\"DE0 3\"]"
   ]
  },
  {
   "cell_type": "code",
   "execution_count": 33,
   "metadata": {},
   "outputs": [],
   "source": [
    "loads = pd.read_csv('Export_Import/loads-p_set.csv', sep=\",\",decimal=\".\")\n",
    "\n",
    "#Load Daten mit Input Daten überschreiben\n",
    "loads[\"DE0 0\"] = LoadData[\"DE0 0\"]\n",
    "loads[\"DE0 1\"] = LoadData[\"DE0 1\"]\n",
    "loads[\"DE0 2\"] = LoadData[\"DE0 2\"]\n",
    "loads[\"DE0 3\"] = LoadData[\"DE0 3\"]"
   ]
  },
  {
   "cell_type": "code",
   "execution_count": null,
   "metadata": {},
   "outputs": [],
   "source": []
  },
  {
   "cell_type": "code",
   "execution_count": 34,
   "metadata": {},
   "outputs": [],
   "source": [
    "dir = os.getcwd()\n",
    "output_fileG = dir + '/Export_Import/generators-p_max_pu.csv'\n",
    "output_fileL = dir + '/Export_Import/loads-p_set.csv'\n",
    "\n",
    "generators.to_csv(output_fileG, index = False)\n",
    "loads.to_csv(output_fileL, index = False)"
   ]
  },
  {
   "cell_type": "code",
   "execution_count": null,
   "metadata": {},
   "outputs": [],
   "source": []
  },
  {
   "cell_type": "code",
   "execution_count": null,
   "metadata": {},
   "outputs": [],
   "source": []
  },
  {
   "cell_type": "code",
   "execution_count": null,
   "metadata": {},
   "outputs": [],
   "source": []
  },
  {
   "cell_type": "code",
   "execution_count": null,
   "metadata": {},
   "outputs": [],
   "source": []
  },
  {
   "cell_type": "code",
   "execution_count": 12,
   "metadata": {
    "scrolled": false
   },
   "outputs": [],
   "source": [
    "line6 = n.lines.loc[\"1\",]"
   ]
  },
  {
   "cell_type": "code",
   "execution_count": 13,
   "metadata": {},
   "outputs": [
    {
     "data": {
      "text/plain": [
       "bus0                                      DE0 0\n",
       "bus1                                      DE0 1\n",
       "num_parallel                            12.0111\n",
       "length                                  392.001\n",
       "type                Al/St 240/40 4-bundle 380.0\n",
       "s_max_pu                                    0.7\n",
       "s_nom                                     20396\n",
       "capital_cost                            14897.5\n",
       "x                                             0\n",
       "r                                             0\n",
       "g                                             0\n",
       "b                                             0\n",
       "s_nom_extendable                          False\n",
       "s_nom_min                                     0\n",
       "s_nom_max                                   inf\n",
       "terrain_factor                                1\n",
       "v_ang_min                                  -inf\n",
       "v_ang_max                                   inf\n",
       "sub_network                                    \n",
       "x_pu                                          0\n",
       "r_pu                                          0\n",
       "g_pu                                          0\n",
       "b_pu                                          0\n",
       "x_pu_eff                                      0\n",
       "r_pu_eff                                      0\n",
       "s_nom_opt                                     0\n",
       "Name: 1, dtype: object"
      ]
     },
     "execution_count": 13,
     "metadata": {},
     "output_type": "execute_result"
    }
   ],
   "source": [
    "line6"
   ]
  },
  {
   "cell_type": "code",
   "execution_count": null,
   "metadata": {},
   "outputs": [],
   "source": []
  }
 ],
 "metadata": {
  "kernelspec": {
   "display_name": "Python 3",
   "language": "python",
   "name": "python3"
  },
  "language_info": {
   "codemirror_mode": {
    "name": "ipython",
    "version": 3
   },
   "file_extension": ".py",
   "mimetype": "text/x-python",
   "name": "python",
   "nbconvert_exporter": "python",
   "pygments_lexer": "ipython3",
   "version": "3.7.9"
  }
 },
 "nbformat": 4,
 "nbformat_minor": 4
}
