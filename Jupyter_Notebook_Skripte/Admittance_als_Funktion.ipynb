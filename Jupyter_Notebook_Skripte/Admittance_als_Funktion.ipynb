{
 "cells": [
  {
   "cell_type": "code",
   "execution_count": 3,
   "metadata": {},
   "outputs": [],
   "source": [
    "import pypsa\n",
    "import pandas as pd\n",
    "import numpy as np"
   ]
  },
  {
   "cell_type": "code",
   "execution_count": 2,
   "metadata": {},
   "outputs": [],
   "source": [
    "import matplotlib.pyplot as plt\n",
    "plt.style.use(\"bmh\")\n",
    "# get_ipython().run_line_magic('matplotlib', 'inline')"
   ]
  },
  {
   "cell_type": "code",
   "execution_count": 6,
   "metadata": {},
   "outputs": [],
   "source": [
    "#Erstelle Admittanz-Matrix\n",
    "def create_admittance(data):\n",
    "    \n",
    "    n = pypsa.Network(data)\n",
    "    n.determine_network_topology()\n",
    "    for sub in n.sub_networks.obj:\n",
    "        pypsa.pf.calculate_Y(sub)\n",
    "        \n",
    "    return sub.Y"
   ]
  },
  {
   "cell_type": "code",
   "execution_count": 2,
   "metadata": {},
   "outputs": [
    {
     "name": "stdout",
     "output_type": "stream",
     "text": [
      "Invalid Numbers of Arguments. Script will be terminated.\n"
     ]
    }
   ],
   "source": [
    "#Erstelle DataFrame mit Bus-Namen und Bus-Art\n",
    "def create_info_df(data):\n",
    "    \n",
    "    n = pypsa.Network(data)\n",
    "    d = {'buses': np.array(n.buses.index), 'control': np.array(n.buses.control)}\n",
    "    df = pd.DataFrame(data=d)\n",
    "    \n",
    "    return df"
   ]
  },
  {
   "cell_type": "code",
   "execution_count": null,
   "metadata": {},
   "outputs": [],
   "source": [
    "import sys\n",
    "import os\n",
    "import scipy.sparse\n",
    "\n",
    "if __name__ == '__main__':\n",
    "    if len(sys.argv) != 2:\n",
    "        print('Invalid Numbers of Arguments. Script will be terminated.')\n",
    "    else:\n",
    "        adm = create_admittance(sys.argv[1])\n",
    "        #save_csv = \"{}/admittance\".format(os.getcwd())\n",
    "        #pd.DataFrame(adm).to_csv(save_csv)\n",
    "        scipy.sparse.save_npz('admittance.npz', adm)\n",
    "        \n",
    "        buses = create_info_df(sys.argv[1])\n",
    "        save_csv = \"{}/buses.csv\".format(os.getcwd())\n",
    "        pd.DataFrame(buses).to_csv(save_csv)\n",
    "        \n",
    "        #testweise export von CSV's\n",
    "        pypsa.Network(sys.argv[1]).export_to_csv_folder('ExportTest')"
   ]
  }
 ],
 "metadata": {
  "kernelspec": {
   "display_name": "Python 3",
   "language": "python",
   "name": "python3"
  },
  "language_info": {
   "codemirror_mode": {
    "name": "ipython",
    "version": 3
   },
   "file_extension": ".py",
   "mimetype": "text/x-python",
   "name": "python",
   "nbconvert_exporter": "python",
   "pygments_lexer": "ipython3",
   "version": "3.7.9"
  }
 },
 "nbformat": 4,
 "nbformat_minor": 4
}
