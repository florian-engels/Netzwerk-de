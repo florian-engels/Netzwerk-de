{
 "cells": [
  {
   "cell_type": "code",
   "execution_count": 1,
   "metadata": {},
   "outputs": [],
   "source": [
    "import pypsa\n",
    "import pandas as pd\n",
    "import numpy as np"
   ]
  },
  {
   "cell_type": "code",
   "execution_count": 58,
   "metadata": {
    "scrolled": true
   },
   "outputs": [],
   "source": [
    "generatorP = pd.read_csv('Solution/generators-p.csv', sep=\",\",decimal=\".\")"
   ]
  },
  {
   "cell_type": "code",
   "execution_count": 59,
   "metadata": {},
   "outputs": [],
   "source": [
    "loadsP = pd.read_csv('Solution/loads-p.csv',sep=\",\",decimal=\".\")"
   ]
  },
  {
   "cell_type": "code",
   "execution_count": 85,
   "metadata": {},
   "outputs": [
    {
     "data": {
      "text/plain": [
       "0"
      ]
     },
     "execution_count": 85,
     "metadata": {},
     "output_type": "execute_result"
    }
   ],
   "source": [
    "#Wird jeglicher Load zu jedem Zeitpunkt exakt bedient?\n",
    "np.sum(generatorP.sum(axis=1)-loadsP.sum(axis=1) > abs(0.0000001))\n",
    "#0 True --> ja"
   ]
  },
  {
   "cell_type": "code",
   "execution_count": 61,
   "metadata": {},
   "outputs": [],
   "source": [
    "#Wird an jedem Knoten genau das produziert, was benötigt wird? "
   ]
  },
  {
   "cell_type": "code",
   "execution_count": 62,
   "metadata": {},
   "outputs": [],
   "source": [
    "generatorEn = generatorP.loc[:,\"DE0 3 coal\"] + generatorP.loc[:,\"DE0 3 solar\"] + generatorP.loc[:,\"DE0 3 onwind\"]"
   ]
  },
  {
   "cell_type": "code",
   "execution_count": 63,
   "metadata": {},
   "outputs": [
    {
     "data": {
      "text/plain": [
       "16440.3945554066"
      ]
     },
     "execution_count": 63,
     "metadata": {},
     "output_type": "execute_result"
    }
   ],
   "source": [
    "max(generatorEn - loadsP.loc[:,\"DE0 3\"])\n",
    "\n"
   ]
  },
  {
   "cell_type": "code",
   "execution_count": 64,
   "metadata": {},
   "outputs": [
    {
     "data": {
      "text/plain": [
       "-9612.25"
      ]
     },
     "execution_count": 64,
     "metadata": {},
     "output_type": "execute_result"
    }
   ],
   "source": [
    "min(generatorEn - loadsP.loc[:,\"DE0 3\"])"
   ]
  },
  {
   "cell_type": "code",
   "execution_count": 65,
   "metadata": {},
   "outputs": [],
   "source": [
    "#Antwort: wenn Min und Max der 0 entsprechen, dann ja"
   ]
  },
  {
   "cell_type": "code",
   "execution_count": 66,
   "metadata": {},
   "outputs": [],
   "source": [
    "#Wird nur dann Kohle produziert, wenn nciht genügend Wind und Solar Energie da ist?"
   ]
  },
  {
   "cell_type": "code",
   "execution_count": 67,
   "metadata": {},
   "outputs": [
    {
     "data": {
      "text/plain": [
       "0      26333.45\n",
       "1      25439.65\n",
       "2      26227.20\n",
       "3      27368.65\n",
       "4      27026.70\n",
       "         ...   \n",
       "739    57733.30\n",
       "740    53779.10\n",
       "741    48300.15\n",
       "742    43486.80\n",
       "743    41409.70\n",
       "Length: 744, dtype: float64"
      ]
     },
     "execution_count": 67,
     "metadata": {},
     "output_type": "execute_result"
    }
   ],
   "source": [
    "#Kohle Energie der Knoten aufsummiert\n",
    "generatorP.loc[:,\"DE0 0 coal\"]+generatorP.loc[:,\"DE0 1 coal\"]+generatorP.loc[:,\"DE0 2 coal\"]+generatorP.loc[:,\"DE0 3 coal\"]"
   ]
  },
  {
   "cell_type": "code",
   "execution_count": 68,
   "metadata": {},
   "outputs": [
    {
     "data": {
      "text/plain": [
       "1.0186340659856796e-10"
      ]
     },
     "execution_count": 68,
     "metadata": {},
     "output_type": "execute_result"
    }
   ],
   "source": [
    "#Differenz aus Load und bereitgestellter Wind und Solar Energie gesamt:\n",
    "max(loadsP.sum(axis=1) - (generatorP.sum(axis=1) - (generatorP.loc[:,\"DE0 0 coal\"]+generatorP.loc[:,\"DE0 1 coal\"]+generatorP.loc[:,\"DE0 2 coal\"]+generatorP.loc[:,\"DE0 3 coal\"])) - (generatorP.loc[:,\"DE0 0 coal\"]+generatorP.loc[:,\"DE0 1 coal\"]+generatorP.loc[:,\"DE0 2 coal\"]+generatorP.loc[:,\"DE0 3 coal\"]))"
   ]
  },
  {
   "cell_type": "code",
   "execution_count": null,
   "metadata": {},
   "outputs": [],
   "source": []
  },
  {
   "cell_type": "code",
   "execution_count": 6,
   "metadata": {},
   "outputs": [],
   "source": [
    "Inputs = pd.read_csv('Export_Import/loads-p_set.csv', sep=\",\",decimal=\".\")"
   ]
  },
  {
   "cell_type": "code",
   "execution_count": 7,
   "metadata": {},
   "outputs": [
    {
     "data": {
      "text/plain": [
       "0      46956.75\n",
       "1      45764.25\n",
       "2      45528.00\n",
       "3      45716.25\n",
       "4      45285.50\n",
       "         ...   \n",
       "739    64675.50\n",
       "740    60691.00\n",
       "741    55756.75\n",
       "742    51269.00\n",
       "743    48985.00\n",
       "Length: 744, dtype: float64"
      ]
     },
     "execution_count": 7,
     "metadata": {},
     "output_type": "execute_result"
    }
   ],
   "source": [
    "Inputs.sum(axis=1)"
   ]
  },
  {
   "cell_type": "code",
   "execution_count": 8,
   "metadata": {},
   "outputs": [],
   "source": [
    "generators = pd.read_csv('Solution/generators.csv', sep=\",\",decimal=\".\")"
   ]
  },
  {
   "cell_type": "code",
   "execution_count": null,
   "metadata": {},
   "outputs": [],
   "source": []
  },
  {
   "cell_type": "code",
   "execution_count": 13,
   "metadata": {},
   "outputs": [
    {
     "data": {
      "text/plain": [
       "0.0"
      ]
     },
     "execution_count": 13,
     "metadata": {},
     "output_type": "execute_result"
    }
   ],
   "source": [
    "#Wird Teilweise mehr Kohle produziert an einem bestimmten Knoten als tatsächlich gebraucht wird?\n",
    "min(loadsP.loc[:,\"DE0 3\"] - generatorP.loc[:,\"DE0 3 coal\"])"
   ]
  },
  {
   "cell_type": "code",
   "execution_count": null,
   "metadata": {},
   "outputs": [],
   "source": []
  },
  {
   "cell_type": "code",
   "execution_count": null,
   "metadata": {},
   "outputs": [],
   "source": []
  },
  {
   "cell_type": "markdown",
   "metadata": {},
   "source": [
    "## Teste den Fall, Kohle Produktionskosten sehr hoch und EnergietransferKosten sehr gering. \n",
    "### Erwartung: Regenerative Energien werden am Limit produziert und ggbfs. transferwiert\n",
    "### Kohle Energie würde nur produziert werden, falls nötig"
   ]
  },
  {
   "cell_type": "code",
   "execution_count": 2,
   "metadata": {},
   "outputs": [],
   "source": [
    "loadsP = pd.read_csv('Solution/loads-p.csv',sep=\",\",decimal=\".\")\n",
    "generatorP = pd.read_csv('Solution/generators-p.csv', sep=\",\",decimal=\".\")\n",
    "SolarData = pd.read_csv('SolarTest.csv', sep=\",\",decimal=\".\")\n",
    "WindData = pd.read_csv('WindTest.csv', sep=\",\",decimal=\".\")\n",
    "LinesP0 = pd.read_csv('Solution/lines-p0.csv', sep=\",\",decimal=\".\")\n",
    "LinesP1 = pd.read_csv('Solution/lines-p1.csv', sep=\",\",decimal=\".\")"
   ]
  },
  {
   "cell_type": "code",
   "execution_count": 3,
   "metadata": {},
   "outputs": [
    {
     "data": {
      "text/plain": [
       "25760.0"
      ]
     },
     "execution_count": 3,
     "metadata": {},
     "output_type": "execute_result"
    }
   ],
   "source": [
    "#Es gibt einen Zeitpunkt, zu dem nicht die komplette Wind Energie \"produziert\" wird\n",
    "max(WindData.loc[:,\"DE0 0\"] - generatorP.loc[:,\"DE0 0 onwind\"])"
   ]
  },
  {
   "cell_type": "code",
   "execution_count": 4,
   "metadata": {},
   "outputs": [
    {
     "data": {
      "text/plain": [
       "537"
      ]
     },
     "execution_count": 4,
     "metadata": {},
     "output_type": "execute_result"
    }
   ],
   "source": [
    "#Zeitpunkt dieses Maximums\n",
    "a = list(WindData.loc[:,\"DE0 0\"] - generatorP.loc[:,\"DE0 0 onwind\"])\n",
    "a.index(max(a))"
   ]
  },
  {
   "cell_type": "code",
   "execution_count": 5,
   "metadata": {},
   "outputs": [
    {
     "data": {
      "text/plain": [
       "name            2013-03-23 09:00:00\n",
       "DE0 0 coal                        0\n",
       "DE0 0 onwind                      0\n",
       "DE0 0 solar                    9870\n",
       "DE0 1 coal                        0\n",
       "DE0 1 onwind                14102.5\n",
       "DE0 1 solar                  7989.2\n",
       "DE0 2 coal                        0\n",
       "DE0 2 onwind                 9769.3\n",
       "DE0 2 solar                 18147.4\n",
       "DE0 3 coal                        0\n",
       "DE0 3 onwind                  556.4\n",
       "DE0 3 solar                  4786.7\n",
       "Name: 537, dtype: object"
      ]
     },
     "execution_count": 5,
     "metadata": {},
     "output_type": "execute_result"
    }
   ],
   "source": [
    "#Es wird keine Kohle produziert\n",
    "generatorP.loc[537,:]"
   ]
  },
  {
   "cell_type": "code",
   "execution_count": 6,
   "metadata": {},
   "outputs": [
    {
     "data": {
      "text/plain": [
       "name     2013-03-23 09:00:00\n",
       "DE0 0                 9839.5\n",
       "DE0 1                24779.8\n",
       "DE0 2                21116.8\n",
       "DE0 3                 9485.5\n",
       "Name: 537, dtype: object"
      ]
     },
     "execution_count": 6,
     "metadata": {},
     "output_type": "execute_result"
    }
   ],
   "source": [
    "loadsP.loc[537,:]"
   ]
  },
  {
   "cell_type": "code",
   "execution_count": 7,
   "metadata": {},
   "outputs": [
    {
     "data": {
      "text/plain": [
       "name    2013-03-23 09:00:00\n",
       "1                   1358.77\n",
       "2                  -1427.61\n",
       "3                   99.3431\n",
       "4                  -1329.28\n",
       "5                   5372.34\n",
       "Name: 537, dtype: object"
      ]
     },
     "execution_count": 7,
     "metadata": {},
     "output_type": "execute_result"
    }
   ],
   "source": [
    "LinesP0.loc[537,:]"
   ]
  },
  {
   "cell_type": "code",
   "execution_count": 8,
   "metadata": {},
   "outputs": [
    {
     "data": {
      "text/plain": [
       "name    2013-03-23 09:00:00\n",
       "1                  -1358.77\n",
       "2                   1427.61\n",
       "3                  -99.3431\n",
       "4                   1329.28\n",
       "5                  -5372.34\n",
       "Name: 537, dtype: object"
      ]
     },
     "execution_count": 8,
     "metadata": {},
     "output_type": "execute_result"
    }
   ],
   "source": [
    "LinesP1.loc[537,:]"
   ]
  },
  {
   "cell_type": "code",
   "execution_count": 10,
   "metadata": {},
   "outputs": [
    {
     "data": {
      "text/html": [
       "<div>\n",
       "<style scoped>\n",
       "    .dataframe tbody tr th:only-of-type {\n",
       "        vertical-align: middle;\n",
       "    }\n",
       "\n",
       "    .dataframe tbody tr th {\n",
       "        vertical-align: top;\n",
       "    }\n",
       "\n",
       "    .dataframe thead th {\n",
       "        text-align: right;\n",
       "    }\n",
       "</style>\n",
       "<table border=\"1\" class=\"dataframe\">\n",
       "  <thead>\n",
       "    <tr style=\"text-align: right;\">\n",
       "      <th></th>\n",
       "      <th>name</th>\n",
       "      <th>1</th>\n",
       "      <th>2</th>\n",
       "      <th>3</th>\n",
       "      <th>4</th>\n",
       "      <th>5</th>\n",
       "    </tr>\n",
       "  </thead>\n",
       "  <tbody>\n",
       "    <tr>\n",
       "      <th>0</th>\n",
       "      <td>2013-03-01 00:00:00</td>\n",
       "      <td>1705.568880</td>\n",
       "      <td>-309.301314</td>\n",
       "      <td>-998.267567</td>\n",
       "      <td>-8085.383871</td>\n",
       "      <td>-4954.151314</td>\n",
       "    </tr>\n",
       "    <tr>\n",
       "      <th>1</th>\n",
       "      <td>2013-03-01 01:00:00</td>\n",
       "      <td>1625.096526</td>\n",
       "      <td>-464.168101</td>\n",
       "      <td>-1017.928425</td>\n",
       "      <td>-8085.383871</td>\n",
       "      <td>-4553.968101</td>\n",
       "    </tr>\n",
       "    <tr>\n",
       "      <th>2</th>\n",
       "      <td>2013-03-01 02:00:00</td>\n",
       "      <td>799.371804</td>\n",
       "      <td>-816.703825</td>\n",
       "      <td>-1219.667980</td>\n",
       "      <td>-8085.383871</td>\n",
       "      <td>-4584.803825</td>\n",
       "    </tr>\n",
       "    <tr>\n",
       "      <th>3</th>\n",
       "      <td>2013-03-01 03:00:00</td>\n",
       "      <td>-4098.264616</td>\n",
       "      <td>1114.240246</td>\n",
       "      <td>247.024370</td>\n",
       "      <td>7133.035384</td>\n",
       "      <td>-2245.909754</td>\n",
       "    </tr>\n",
       "    <tr>\n",
       "      <th>4</th>\n",
       "      <td>2013-03-01 04:00:00</td>\n",
       "      <td>-4329.662109</td>\n",
       "      <td>919.462508</td>\n",
       "      <td>159.199602</td>\n",
       "      <td>6954.237891</td>\n",
       "      <td>-2121.137492</td>\n",
       "    </tr>\n",
       "    <tr>\n",
       "      <th>...</th>\n",
       "      <td>...</td>\n",
       "      <td>...</td>\n",
       "      <td>...</td>\n",
       "      <td>...</td>\n",
       "      <td>...</td>\n",
       "      <td>...</td>\n",
       "    </tr>\n",
       "    <tr>\n",
       "      <th>739</th>\n",
       "      <td>2013-03-31 19:00:00</td>\n",
       "      <td>-4222.328503</td>\n",
       "      <td>2423.218017</td>\n",
       "      <td>-463.921727</td>\n",
       "      <td>3243.766161</td>\n",
       "      <td>-10890.570396</td>\n",
       "    </tr>\n",
       "    <tr>\n",
       "      <th>740</th>\n",
       "      <td>2013-03-31 20:00:00</td>\n",
       "      <td>-4949.600521</td>\n",
       "      <td>2423.218017</td>\n",
       "      <td>-463.921727</td>\n",
       "      <td>4259.094143</td>\n",
       "      <td>-10890.570396</td>\n",
       "    </tr>\n",
       "    <tr>\n",
       "      <th>741</th>\n",
       "      <td>2013-03-31 21:00:00</td>\n",
       "      <td>-4182.167504</td>\n",
       "      <td>-1389.689124</td>\n",
       "      <td>-278.643372</td>\n",
       "      <td>4246.411658</td>\n",
       "      <td>2977.781714</td>\n",
       "    </tr>\n",
       "    <tr>\n",
       "      <th>742</th>\n",
       "      <td>2013-03-31 22:00:00</td>\n",
       "      <td>-1373.823149</td>\n",
       "      <td>-2423.218017</td>\n",
       "      <td>-832.208835</td>\n",
       "      <td>-2837.425420</td>\n",
       "      <td>3114.602821</td>\n",
       "    </tr>\n",
       "    <tr>\n",
       "      <th>743</th>\n",
       "      <td>2013-03-31 23:00:00</td>\n",
       "      <td>-986.235256</td>\n",
       "      <td>-2423.218017</td>\n",
       "      <td>-716.796728</td>\n",
       "      <td>-2719.042859</td>\n",
       "      <td>3807.002821</td>\n",
       "    </tr>\n",
       "  </tbody>\n",
       "</table>\n",
       "<p>744 rows × 6 columns</p>\n",
       "</div>"
      ],
      "text/plain": [
       "                    name            1            2            3            4  \\\n",
       "0    2013-03-01 00:00:00  1705.568880  -309.301314  -998.267567 -8085.383871   \n",
       "1    2013-03-01 01:00:00  1625.096526  -464.168101 -1017.928425 -8085.383871   \n",
       "2    2013-03-01 02:00:00   799.371804  -816.703825 -1219.667980 -8085.383871   \n",
       "3    2013-03-01 03:00:00 -4098.264616  1114.240246   247.024370  7133.035384   \n",
       "4    2013-03-01 04:00:00 -4329.662109   919.462508   159.199602  6954.237891   \n",
       "..                   ...          ...          ...          ...          ...   \n",
       "739  2013-03-31 19:00:00 -4222.328503  2423.218017  -463.921727  3243.766161   \n",
       "740  2013-03-31 20:00:00 -4949.600521  2423.218017  -463.921727  4259.094143   \n",
       "741  2013-03-31 21:00:00 -4182.167504 -1389.689124  -278.643372  4246.411658   \n",
       "742  2013-03-31 22:00:00 -1373.823149 -2423.218017  -832.208835 -2837.425420   \n",
       "743  2013-03-31 23:00:00  -986.235256 -2423.218017  -716.796728 -2719.042859   \n",
       "\n",
       "                5  \n",
       "0    -4954.151314  \n",
       "1    -4553.968101  \n",
       "2    -4584.803825  \n",
       "3    -2245.909754  \n",
       "4    -2121.137492  \n",
       "..            ...  \n",
       "739 -10890.570396  \n",
       "740 -10890.570396  \n",
       "741   2977.781714  \n",
       "742   3114.602821  \n",
       "743   3807.002821  \n",
       "\n",
       "[744 rows x 6 columns]"
      ]
     },
     "execution_count": 10,
     "metadata": {},
     "output_type": "execute_result"
    }
   ],
   "source": [
    "LinesP0"
   ]
  },
  {
   "cell_type": "code",
   "execution_count": null,
   "metadata": {},
   "outputs": [],
   "source": []
  }
 ],
 "metadata": {
  "kernelspec": {
   "display_name": "Python 3",
   "language": "python",
   "name": "python3"
  },
  "language_info": {
   "codemirror_mode": {
    "name": "ipython",
    "version": 3
   },
   "file_extension": ".py",
   "mimetype": "text/x-python",
   "name": "python",
   "nbconvert_exporter": "python",
   "pygments_lexer": "ipython3",
   "version": "3.7.9"
  }
 },
 "nbformat": 4,
 "nbformat_minor": 4
}
